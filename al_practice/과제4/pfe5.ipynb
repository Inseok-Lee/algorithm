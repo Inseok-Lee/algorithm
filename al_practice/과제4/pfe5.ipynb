{
 "cells": [
  {
   "cell_type": "markdown",
   "id": "14377542",
   "metadata": {},
   "source": [
    "# 3장 동적계획(Dynamic Programming)"
   ]
  },
  {
   "cell_type": "markdown",
   "id": "facfc7b3",
   "metadata": {},
   "source": [
    "* divide-and-conquer(분할정복식, 재귀) 알고리즘은 하향식(top-bottom) 해결법"
   ]
  },
  {
   "cell_type": "markdown",
   "id": "e785b45c",
   "metadata": {},
   "source": [
    "* dynamic programming(동적계획법)은 상향식 해결법(bottom-up)"
   ]
  },
  {
   "cell_type": "markdown",
   "id": "b924ff99",
   "metadata": {},
   "source": [
    "- 분할정복식 방법과 마찬가지로 문제를 나눈 후에 나누어진 부분들을 먼저 푼다.\n",
    "- 인덱스를 효과적으로 설정하여 작은 문제들의 중복해결을 배제\n",
    "- 작은 문제 해결을 먼저 -> 결과를 큰 문제의 해결로 확산\n"
   ]
  },
  {
   "cell_type": "markdown",
   "id": "bc384269",
   "metadata": {},
   "source": [
    "- 개발절차  \n",
    "(1) 재귀 관계식(recursive property) 정립  \n",
    "(2) 작은 사례를 먼저 해결하는 상향식 방법으로 진행  "
   ]
  },
  {
   "cell_type": "markdown",
   "id": "b3132a6c",
   "metadata": {},
   "source": [
    "### 이항계수계산(bin 재귀, bin2 배열)"
   ]
  },
  {
   "cell_type": "markdown",
   "id": "32832386",
   "metadata": {},
   "source": [
    "* 의사코드"
   ]
  },
  {
   "cell_type": "code",
   "execution_count": 4,
   "id": "4de8a9d9",
   "metadata": {},
   "outputs": [
    {
     "ename": "SyntaxError",
     "evalue": "invalid syntax (<ipython-input-4-dd7521af1f56>, line 1)",
     "output_type": "error",
     "traceback": [
      "\u001b[1;36m  File \u001b[1;32m\"<ipython-input-4-dd7521af1f56>\"\u001b[1;36m, line \u001b[1;32m1\u001b[0m\n\u001b[1;33m    int bin(int n, int k){\u001b[0m\n\u001b[1;37m        ^\u001b[0m\n\u001b[1;31mSyntaxError\u001b[0m\u001b[1;31m:\u001b[0m invalid syntax\n"
     ]
    }
   ],
   "source": [
    "int bin(int n, int k){\n",
    "    if(k == 0 || n == k){\n",
    "        return 1;\n",
    "    }\n",
    "    else{\n",
    "        return bin(n-1, k-1) + bin(n-1, k)\n",
    "    }\n",
    "}"
   ]
  },
  {
   "cell_type": "markdown",
   "id": "e0d87d59",
   "metadata": {},
   "source": [
    "[실습] bin, bin2 구현"
   ]
  },
  {
   "cell_type": "code",
   "execution_count": 5,
   "id": "f415dc38",
   "metadata": {},
   "outputs": [
    {
     "ename": "IndentationError",
     "evalue": "expected an indented block (<ipython-input-5-5b9effff985a>, line 3)",
     "output_type": "error",
     "traceback": [
      "\u001b[1;36m  File \u001b[1;32m\"<ipython-input-5-5b9effff985a>\"\u001b[1;36m, line \u001b[1;32m3\u001b[0m\n\u001b[1;33m    def bin2(n, k):\u001b[0m\n\u001b[1;37m    ^\u001b[0m\n\u001b[1;31mIndentationError\u001b[0m\u001b[1;31m:\u001b[0m expected an indented block\n"
     ]
    }
   ],
   "source": [
    "def bin(n, k):\n",
    "    #재귀적 방법 구현\n",
    "def bin2(n, k):\n",
    "    # 배열을 이용한 구현\n",
    "print(bin(10, 5), bin2(10, 5))"
   ]
  },
  {
   "cell_type": "markdown",
   "id": "f0f0b54a",
   "metadata": {},
   "source": [
    "### Floyd 알고리즘1"
   ]
  },
  {
   "cell_type": "markdown",
   "id": "ac48c910",
   "metadata": {},
   "source": [
    "* 의사코드"
   ]
  },
  {
   "cell_type": "code",
   "execution_count": 6,
   "id": "9c0a1c2c",
   "metadata": {},
   "outputs": [
    {
     "ename": "SyntaxError",
     "evalue": "invalid syntax (<ipython-input-6-fa646f48b9b7>, line 1)",
     "output_type": "error",
     "traceback": [
      "\u001b[1;36m  File \u001b[1;32m\"<ipython-input-6-fa646f48b9b7>\"\u001b[1;36m, line \u001b[1;32m1\u001b[0m\n\u001b[1;33m    void floyd(int n, const number W[][], number D[][]){\u001b[0m\n\u001b[1;37m         ^\u001b[0m\n\u001b[1;31mSyntaxError\u001b[0m\u001b[1;31m:\u001b[0m invalid syntax\n"
     ]
    }
   ],
   "source": [
    "void floyd(int n, const number W[][], number D[][]){\n",
    "    int i, j, k;\n",
    "    D = W;\n",
    "    for(int k=1; k <= n; k++){\n",
    "        for(int i = 1; i <= n; i++){\n",
    "            for(int j = 1; j <= n; j++){\n",
    "                D[i][j] = min(D[i][j], D[i][k]+D[k][j]);\n",
    "            }\n",
    "        }\n",
    "    }\n",
    "}"
   ]
  },
  {
   "cell_type": "markdown",
   "id": "991138cd",
   "metadata": {},
   "source": [
    "### Floyd 알고리즘2 "
   ]
  },
  {
   "cell_type": "markdown",
   "id": "f4eba327",
   "metadata": {},
   "source": [
    "* 의사코드"
   ]
  },
  {
   "cell_type": "code",
   "execution_count": null,
   "id": "c23c9db9",
   "metadata": {},
   "outputs": [],
   "source": [
    "void floyd(int n, const number W[][], number D[][], P[][]){\n",
    "    int i, j, k;\n",
    "    for(int i = 1; i <= n; i++){\n",
    "        for(int j = 1; j <= n; j++){\n",
    "            P[i][j] = 0;\n",
    "        }\n",
    "    }\n",
    "    D = W;\n",
    "    for(int k=1; k <= n; k++){\n",
    "        for(int i = 1; i <= n; i++){\n",
    "            for(int j = 1; j <= n; j++){\n",
    "                if(D[i][k] + D[k][j] < D[i][j]){\n",
    "                    P[i][j] = k;\n",
    "                    D[i][j] = D[i][k]+D[k][j];\n",
    "            }\n",
    "        }\n",
    "    }\n",
    "}"
   ]
  },
  {
   "cell_type": "markdown",
   "id": "492f73ba",
   "metadata": {},
   "source": [
    "### 최단경로의 출력"
   ]
  },
  {
   "cell_type": "markdown",
   "id": "9b533686",
   "metadata": {},
   "source": [
    "* 의사코드"
   ]
  },
  {
   "cell_type": "code",
   "execution_count": 7,
   "id": "d9084f41",
   "metadata": {},
   "outputs": [
    {
     "ename": "SyntaxError",
     "evalue": "invalid syntax (<ipython-input-7-993e0b55e355>, line 1)",
     "output_type": "error",
     "traceback": [
      "\u001b[1;36m  File \u001b[1;32m\"<ipython-input-7-993e0b55e355>\"\u001b[1;36m, line \u001b[1;32m1\u001b[0m\n\u001b[1;33m    void path(index q, r){\u001b[0m\n\u001b[1;37m         ^\u001b[0m\n\u001b[1;31mSyntaxError\u001b[0m\u001b[1;31m:\u001b[0m invalid syntax\n"
     ]
    }
   ],
   "source": [
    "void path(index q, r){\n",
    "    if(P[q][r] != 0){\n",
    "        path(q, P[q][r]);\n",
    "        cout << \" v\" << P[q][r];\n",
    "        path(P[q][r], r);\n",
    "    }\n",
    "}"
   ]
  },
  {
   "cell_type": "markdown",
   "id": "7c40329a",
   "metadata": {},
   "source": [
    "[실습] Floyd 알고리즘 구현"
   ]
  },
  {
   "cell_type": "code",
   "execution_count": 8,
   "id": "9cdda071",
   "metadata": {},
   "outputs": [
    {
     "ename": "IndentationError",
     "evalue": "expected an indented block (<ipython-input-8-03aea2297e3f>, line 5)",
     "output_type": "error",
     "traceback": [
      "\u001b[1;36m  File \u001b[1;32m\"<ipython-input-8-03aea2297e3f>\"\u001b[1;36m, line \u001b[1;32m5\u001b[0m\n\u001b[1;33m    def printMatrix(d):\u001b[0m\n\u001b[1;37m    ^\u001b[0m\n\u001b[1;31mIndentationError\u001b[0m\u001b[1;31m:\u001b[0m expected an indented block\n"
     ]
    }
   ],
   "source": [
    "def allShortestPath(g, n):\n",
    "# node number은 1부터 n\n",
    "#구현\n",
    "\n",
    "def printMatrix(d):\n",
    "    n = len(d[0])\n",
    "    for i in range(0, n):\n",
    "        for j in range(0, n):\n",
    "            print(d[i][j], end=\" \")\n",
    "        print()\n",
    "\n",
    "inf=1000\n",
    "g = [[0, 1, inf, 1, 5],\n",
    "    [9, 0, 3, 2, inf],\n",
    "    [inf, inf, 0, 4, inf],\n",
    "    [inf, inf, 2, 0, 3],\n",
    "    [3, inf, inf, inf, 0]]\n",
    "d, p = allShortestPath(g, 5)\n",
    "print()\n",
    "printMatrix(d)\n",
    "print()\n",
    "pirntMatrix(p)"
   ]
  },
  {
   "cell_type": "markdown",
   "id": "8e412f90",
   "metadata": {},
   "source": [
    "## 연쇄행렬 최소곱셈 알고리즘"
   ]
  },
  {
   "cell_type": "markdown",
   "id": "6f2cccb6",
   "metadata": {},
   "source": [
    "### 최소곱셈알고리즘"
   ]
  },
  {
   "cell_type": "markdown",
   "id": "c77c4f5a",
   "metadata": {},
   "source": [
    "* 의사코드"
   ]
  },
  {
   "cell_type": "code",
   "execution_count": 10,
   "id": "fd264344",
   "metadata": {},
   "outputs": [
    {
     "ename": "SyntaxError",
     "evalue": "invalid syntax (<ipython-input-10-c110d59f761f>, line 1)",
     "output_type": "error",
     "traceback": [
      "\u001b[1;36m  File \u001b[1;32m\"<ipython-input-10-c110d59f761f>\"\u001b[1;36m, line \u001b[1;32m1\u001b[0m\n\u001b[1;33m    int minmult(int n, const int d[], index P[][]){\u001b[0m\n\u001b[1;37m        ^\u001b[0m\n\u001b[1;31mSyntaxError\u001b[0m\u001b[1;31m:\u001b[0m invalid syntax\n"
     ]
    }
   ],
   "source": [
    "int minmult(int n, const int d[], index P[][]){\n",
    "    index i, j, k, diagonal;\n",
    "    int M[1..n][1..n];\n",
    "    for(int i = 1; i <= n; i++)\n",
    "        M[i][i] = 0;\n",
    "    for(diagonal = 1; diagonal <= n-1; diagonal++){\n",
    "        for(int i = 0; i <= n-diagonal; i++){\n",
    "            j = i + diagonal;\n",
    "            M[i][j] = min(M[i][k]+M[k+1][j]+d[i-1]*d[k]*d[j]);\n",
    "            P[i][j] = 최소치를 주는 k의 값\n",
    "        }\n",
    "    }\n",
    "    return M[1][n];\n",
    "}"
   ]
  },
  {
   "cell_type": "markdown",
   "id": "c40c904e",
   "metadata": {},
   "source": [
    "### 최적의 해를 주는 순서의 출력"
   ]
  },
  {
   "cell_type": "markdown",
   "id": "36a170c7",
   "metadata": {},
   "source": [
    "* 의사코드"
   ]
  },
  {
   "cell_type": "code",
   "execution_count": null,
   "id": "ca6c1b1d",
   "metadata": {},
   "outputs": [],
   "source": [
    "void order(index i, index j){\n",
    "    if(i == j)\n",
    "        cout << \"A\" << i;\n",
    "    else{\n",
    "        k = P[i][j];\n",
    "        cout <<  \"(\";\n",
    "        order(i, k);\n",
    "        order(k+1, j);\n",
    "        cout << \")\";\n",
    "    }\n",
    "}"
   ]
  },
  {
   "cell_type": "markdown",
   "id": "08033d6c",
   "metadata": {},
   "source": [
    "[실습] 연쇄행렬 최소곱셈 알고리즘 구현"
   ]
  },
  {
   "cell_type": "code",
   "execution_count": null,
   "id": "92553f08",
   "metadata": {},
   "outputs": [],
   "source": [
    "import utility\n",
    "def order(p, i, j):\n",
    "# 구현\n",
    "\n",
    "d = [5, 2, 3, 4, 5, 6, 7]\n",
    "n = len(d)-1\n",
    "\n",
    "m = [[0 for j in range(1, n+2)] for i in range(1, n+2)]\n",
    "p = [[0 for j in range(1, n+2)] for i in range(1, n+2)]\n",
    "\n",
    "#구현\n",
    "\n",
    "utility.printMatrix(m)\n",
    "print()\n",
    "utility.printMatrix(p)\n",
    "order(p, 1, 6)\n"
   ]
  }
 ],
 "metadata": {
  "kernelspec": {
   "display_name": "Python 3",
   "language": "python",
   "name": "python3"
  },
  "language_info": {
   "codemirror_mode": {
    "name": "ipython",
    "version": 3
   },
   "file_extension": ".py",
   "mimetype": "text/x-python",
   "name": "python",
   "nbconvert_exporter": "python",
   "pygments_lexer": "ipython3",
   "version": "3.8.8"
  }
 },
 "nbformat": 4,
 "nbformat_minor": 5
}
