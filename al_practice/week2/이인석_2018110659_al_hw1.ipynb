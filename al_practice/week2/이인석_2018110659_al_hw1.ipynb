{
 "cells": [
  {
   "cell_type": "markdown",
   "metadata": {},
   "source": [
    "# 알고리즘 분석 과제1"
   ]
  },
  {
   "cell_type": "markdown",
   "metadata": {},
   "source": [
    "### (1)"
   ]
  },
  {
   "cell_type": "code",
   "execution_count": 10,
   "metadata": {},
   "outputs": [],
   "source": [
    "from time import time"
   ]
  },
  {
   "cell_type": "markdown",
   "metadata": {},
   "source": [
    "* 알고리즘1"
   ]
  },
  {
   "cell_type": "code",
   "execution_count": 13,
   "metadata": {},
   "outputs": [
    {
     "name": "stdout",
     "output_type": "stream",
     "text": [
      "24    2.18951\n",
      "25    4.35539\n",
      "26    8.75388\n",
      "27   17.84193\n",
      "28   35.34316\n"
     ]
    }
   ],
   "source": [
    "def fun1(n):\n",
    "    if n==0 or n==1:\n",
    "        return 1\n",
    "    else:\n",
    "        sum = 0\n",
    "        for i in range(n):\n",
    "            sum += fun(i)\n",
    "        return sum\n",
    "\n",
    "for i in range(24, 29):\n",
    "    stime = time()\n",
    "    fun1(i)\n",
    "    print(f'{i:2d} {time()-stime:10.5f}')"
   ]
  },
  {
   "cell_type": "markdown",
   "metadata": {},
   "source": [
    "* 알고리즘2"
   ]
  },
  {
   "cell_type": "code",
   "execution_count": 15,
   "metadata": {},
   "outputs": [
    {
     "name": "stdout",
     "output_type": "stream",
     "text": [
      " 1600    0.06628\n",
      " 3200    0.25484\n",
      " 6400    2.11720\n",
      "12800   16.96964\n",
      "25600  129.59143\n"
     ]
    }
   ],
   "source": [
    "def fun2(n):\n",
    "    arr = []\n",
    "    arr.append(1)\n",
    "    arr.append(1)\n",
    "\n",
    "    i = 0\n",
    "    result = 0\n",
    "    while i < n:\n",
    "        result = sum(arr)\n",
    "        arr.append(result)\n",
    "        i += 1\n",
    "\n",
    "    return arr[n]\n",
    "\n",
    "for i in range(5):\n",
    "    num = pow(2, i) * 1600\n",
    "    stime = time()\n",
    "    fun2(num)\n",
    "    print(f'{num:5d} {time()-stime:10.5f}')"
   ]
  },
  {
   "cell_type": "markdown",
   "metadata": {},
   "source": [
    "<style type=\"text/css\">\n",
    ".tg  {border-collapse:collapse;border-spacing:0;}\n",
    ".tg td{border-color:black;border-style:solid;border-width:1px;font-family:Arial, sans-serif;font-size:14px;\n",
    "  overflow:hidden;padding:10px 5px;word-break:normal;}\n",
    ".tg th{border-color:black;border-style:solid;border-width:1px;font-family:Arial, sans-serif;font-size:14px;\n",
    "  font-weight:normal;overflow:hidden;padding:10px 5px;word-break:normal;}\n",
    ".tg .tg-0pky{border-color:inherit;text-align:left;vertical-align:top}\n",
    "</style>\n",
    "<table class=\"tg\">\n",
    "<thead>\n",
    "  <tr>\n",
    "    <th class=\"tg-0pky\" colspan=\"2\">알고리즘1</th>\n",
    "    <th class=\"tg-0pky\" colspan=\"2\">알고리즘2</th>\n",
    "  </tr>\n",
    "</thead>\n",
    "<tbody>\n",
    "  <tr>\n",
    "    <td class=\"tg-0pky\">n</td>\n",
    "    <td class=\"tg-0pky\">수행시간(초)</td>\n",
    "    <td class=\"tg-0pky\">n</td>\n",
    "    <td class=\"tg-0pky\">수행시간(초)</td>\n",
    "  </tr>\n",
    "  <tr>\n",
    "    <td class=\"tg-0pky\">24</td>\n",
    "    <td class=\"tg-0pky\">2.18951</td>\n",
    "    <td class=\"tg-0pky\">1,600</td>\n",
    "    <td class=\"tg-0pky\">0.05735</td>\n",
    "  </tr>\n",
    "  <tr>\n",
    "    <td class=\"tg-0pky\">25</td>\n",
    "    <td class=\"tg-0pky\">4.35539</td>\n",
    "    <td class=\"tg-0pky\">3,200</td>\n",
    "    <td class=\"tg-0pky\"><span style=\"font-weight:400;font-style:normal\">0.25142</span></td>\n",
    "  </tr>\n",
    "  <tr>\n",
    "    <td class=\"tg-0pky\">26</td>\n",
    "    <td class=\"tg-0pky\">8.75388</td>\n",
    "    <td class=\"tg-0pky\">6,400</td>\n",
    "    <td class=\"tg-0pky\"><span style=\"font-weight:400;font-style:normal\">2.19987</span></td>\n",
    "  </tr>\n",
    "  <tr>\n",
    "    <td class=\"tg-0pky\">27</td>\n",
    "    <td class=\"tg-0pky\">17.84193</td>\n",
    "    <td class=\"tg-0pky\">12,800</td>\n",
    "    <td class=\"tg-0pky\"><span style=\"font-weight:400;font-style:normal\">16.96964</span></td>\n",
    "  </tr>\n",
    "  <tr>\n",
    "    <td class=\"tg-0pky\">28</td>\n",
    "    <td class=\"tg-0pky\">35.34316</td>\n",
    "    <td class=\"tg-0pky\">25,600</td>\n",
    "    <td class=\"tg-0pky\"><span style=\"font-weight:400;font-style:normal\">128.71195</span></td>\n",
    "  </tr>\n",
    "</tbody>\n",
    "</table>"
   ]
  },
  {
   "cell_type": "markdown",
   "metadata": {},
   "source": [
    "### (2)"
   ]
  },
  {
   "cell_type": "markdown",
   "metadata": {},
   "source": [
    " (1)의 표 결과를 보면 대략적으로 T1(n+1) = T1(n)\\*2 그리고  \n",
    " T2(2n) = T2(n)\\*7 으로 나타낼 수 있다."
   ]
  },
  {
   "cell_type": "markdown",
   "metadata": {},
   "source": [
    "### (3)"
   ]
  },
  {
   "cell_type": "markdown",
   "metadata": {},
   "source": [
    "* 단위연산: 덧셈\n",
    "* 입력크기: 배열의 크기 n\n",
    "* 모든경우 분석:\n",
    "    배열의 크기에 따라서 while문 루프가 n번 반복된다.\n",
    "    각 루프마다 덧셈이 n-1번 수행된다.(sum함수)\n",
    "    따라서 덧셈이 수행되는 횟수 T2(n) = n(n-1) 이다.\n",
    "    "
   ]
  },
  {
   "cell_type": "markdown",
   "metadata": {},
   "source": [
    "### (4)"
   ]
  },
  {
   "cell_type": "markdown",
   "metadata": {},
   "source": [
    "해당 문제를 해결하기 위해 알고리즘1의 시간 복잡도도 구해보았다.  \n",
    "윗 표와는 조금 다른 결과가 나온것같지만 어쨋든 알고리즘1 의 시간복잡도\n",
    "T1(n)은 2^n 이고 알고리즘2의 시간복잡도 T2(n)은 n(n-1)이다.\n",
    "강의자료에 '시간복잡도별 실행시간 비교'를 참고해보면 알고리즘1, 알고리즘2를 10분간 수행할때 해결할 수 있는 문제의 크기 n1, n2는 각각\n",
    "39, 10^6 이다.\n",
    "\n",
    "* 알고리즘1의 시간복잡도는 T1(n) = T1(n-1)+ ... T1(1) 이다. 단위연산은 호출 횟수."
   ]
  },
  {
   "cell_type": "markdown",
   "metadata": {},
   "source": [
    "### (5)"
   ]
  },
  {
   "cell_type": "markdown",
   "metadata": {},
   "source": [
    "n이 100일때 알고리즘1의 수행시간 t1은 4\\*(10^13) years 이고  \n",
    "n 이 1,000만(=10^7)일때 알고리즘2의 수행시간 t2는 1.16days이다."
   ]
  }
 ],
 "metadata": {
  "kernelspec": {
   "display_name": "Python 3",
   "language": "python",
   "name": "python3"
  },
  "language_info": {
   "codemirror_mode": {
    "name": "ipython",
    "version": 3
   },
   "file_extension": ".py",
   "mimetype": "text/x-python",
   "name": "python",
   "nbconvert_exporter": "python",
   "pygments_lexer": "ipython3",
   "version": "3.8.8"
  }
 },
 "nbformat": 4,
 "nbformat_minor": 4
}
