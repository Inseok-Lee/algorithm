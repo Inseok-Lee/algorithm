{
 "cells": [
  {
   "cell_type": "markdown",
   "metadata": {},
   "source": [
    "## Alg 1.1 순차검색 알고리즘 (Sequential Search)"
   ]
  },
  {
   "cell_type": "code",
   "execution_count": 1,
   "metadata": {},
   "outputs": [],
   "source": [
    "from time import time"
   ]
  },
  {
   "cell_type": "markdown",
   "metadata": {},
   "source": [
    "* sol_1"
   ]
  },
  {
   "cell_type": "code",
   "execution_count": 2,
   "metadata": {},
   "outputs": [
    {
     "name": "stdout",
     "output_type": "stream",
     "text": [
      "-1\n",
      "time:  0.0004858970642089844\n"
     ]
    }
   ],
   "source": [
    "startTime = time()\n",
    "def seqsearch(s, x):\n",
    "    location = 0\n",
    "    while location < len(s) and s[location] != x:\n",
    "        location += 1\n",
    "    if location >= len(s):\n",
    "        return -1\n",
    "    return location\n",
    "    \n",
    "s = [3, 5, 2, 1, 7, 9]\n",
    "loc = seqsearch(s, 4)\n",
    "print(loc)\n",
    "endTime = time()\n",
    "print(\"time: \", endTime - startTime)"
   ]
  },
  {
   "cell_type": "markdown",
   "metadata": {},
   "source": [
    "* sol_2"
   ]
  },
  {
   "cell_type": "code",
   "execution_count": 3,
   "metadata": {},
   "outputs": [
    {
     "name": "stdout",
     "output_type": "stream",
     "text": [
      "-1\n",
      "time:  0.0003299713134765625\n"
     ]
    }
   ],
   "source": [
    "startTime = time()\n",
    "def seqsearch(s, x):\n",
    "    location = 0\n",
    "    while location < len(s):\n",
    "        if s[location] == x:\n",
    "            return location\n",
    "        location += 1\n",
    "    return -1\n",
    "    \n",
    "s = [3, 5, 2, 1, 7, 9]\n",
    "loc = seqsearch(s, 4)\n",
    "print(loc)\n",
    "endTime = time()\n",
    "print(\"time: \", endTime - startTime)"
   ]
  },
  {
   "cell_type": "markdown",
   "metadata": {},
   "source": [
    "## Alg 1.2 배열의 수 더하기(Sum of Array)"
   ]
  },
  {
   "cell_type": "markdown",
   "metadata": {},
   "source": [
    "* 1."
   ]
  },
  {
   "cell_type": "code",
   "execution_count": 4,
   "metadata": {},
   "outputs": [
    {
     "name": "stdout",
     "output_type": "stream",
     "text": [
      "27\n"
     ]
    }
   ],
   "source": [
    "def sum1(s):\n",
    "    result = 0\n",
    "    for a in s:\n",
    "        result += a\n",
    "    return result\n",
    "        \n",
    "s = [3, 5, 2, 1, 7, 9]\n",
    "answer = sum1(s)\n",
    "print(answer)"
   ]
  },
  {
   "cell_type": "markdown",
   "metadata": {},
   "source": [
    "* 2."
   ]
  },
  {
   "cell_type": "code",
   "execution_count": 5,
   "metadata": {},
   "outputs": [
    {
     "name": "stdout",
     "output_type": "stream",
     "text": [
      "27\n"
     ]
    }
   ],
   "source": [
    "def sum2(s):\n",
    "    result = 0\n",
    "    for i in range(len(s)):\n",
    "        result += s[i]\n",
    "    return result\n",
    "        \n",
    "s = [3, 5, 2, 1, 7, 9]\n",
    "answer = sum2(s)\n",
    "print(answer)"
   ]
  },
  {
   "cell_type": "markdown",
   "metadata": {},
   "source": [
    "## Alg 1.3 교환정렬(Exchange Sorting)"
   ]
  },
  {
   "cell_type": "code",
   "execution_count": 6,
   "metadata": {},
   "outputs": [
    {
     "name": "stdout",
     "output_type": "stream",
     "text": [
      "[1, 2, 3, 4, 5, 6, 7, 8, 9]\n"
     ]
    }
   ],
   "source": [
    "s = [3, 2, 5, 7, 1, 9, 4, 6, 8]\n",
    "n = len(s)\n",
    "for i in range(0, n-1):\n",
    "    for j in range(i+1, n):\n",
    "        if s[i] > s[j]:\n",
    "            tmp = s[i]\n",
    "            s[i] = s[j]\n",
    "            s[j] = tmp\n",
    "\n",
    "print(s)"
   ]
  },
  {
   "cell_type": "markdown",
   "metadata": {},
   "source": [
    "## Alg 1.4 행렬곱셈(Multiplication of Matrices)"
   ]
  },
  {
   "cell_type": "markdown",
   "metadata": {},
   "source": [
    "* sol_1"
   ]
  },
  {
   "cell_type": "code",
   "execution_count": 7,
   "metadata": {},
   "outputs": [
    {
     "name": "stdout",
     "output_type": "stream",
     "text": [
      "[[6, 1], [16, 3]]\n"
     ]
    }
   ],
   "source": [
    "def matrix_multiplication(a, b):\n",
    "    c = []\n",
    "    for i in range(len(a)):\n",
    "        tmp = []\n",
    "        for j in range(len(b[0])):\n",
    "            result = 0\n",
    "            for k in range(len(a[0])):\n",
    "                result += a[i][k]*b[k][j]\n",
    "            tmp.append(result)\n",
    "        c.append(tmp)\n",
    "    return c\n",
    "    \n",
    "a = [[1, 2], [3, 4]]\n",
    "b = [[4, 1], [1, 0]]\n",
    "\n",
    "print(matrix_multiplication(a, b))\n",
    "\n",
    "# 리스트에 뭔가를 추가할때 append를 사용하는것을 간과함 조심!\n",
    "# 처음에 리스트의 크기를 초기화 해주지 않고 점진적으로 추가해 나가는 알고리즘이다.\n",
    "# C++에서는 배열의 크기를 초기화 한 후 진행했었음"
   ]
  },
  {
   "cell_type": "markdown",
   "metadata": {},
   "source": [
    "* sol_2"
   ]
  },
  {
   "cell_type": "code",
   "execution_count": 8,
   "metadata": {},
   "outputs": [
    {
     "name": "stdout",
     "output_type": "stream",
     "text": [
      "[[16, 3], [16, 3]]\n"
     ]
    }
   ],
   "source": [
    "def matrix_multiplication(a, b):\n",
    "    c = [[0]*len(b[0])]*len(a)\n",
    "    for i in range(len(a)):\n",
    "        for j in range(len(b[0])):\n",
    "            c[i][j] = 0\n",
    "            for k in range(len(a[0])):\n",
    "                c[i][j] += a[i][k]*b[k][j]\n",
    "    return c\n",
    "    \n",
    "a = [[1, 2], [3, 4]]\n",
    "b = [[4, 1], [1, 0]]\n",
    "\n",
    "print(matrix_multiplication(a, b))\n",
    "\n",
    "# 위와 같은 방식으로는 파이썬에서 제대로 된 2차원 배열 초기화가 불가능하다.\n",
    "# c안의 리스트가 모두 같은 주소를 공유하기 때문이다. (shallow copy가 일어남)"
   ]
  },
  {
   "cell_type": "markdown",
   "metadata": {},
   "source": [
    "## Alg 1.5 이분검색 알고리즘(Binary Search)"
   ]
  },
  {
   "cell_type": "code",
   "execution_count": 9,
   "metadata": {},
   "outputs": [
    {
     "name": "stdout",
     "output_type": "stream",
     "text": [
      "8\n"
     ]
    }
   ],
   "source": [
    "def bs(data, item, low, high):\n",
    "    location = 0\n",
    "    while low <= high and location == 0:\n",
    "        mid = int((low + high)/2)\n",
    "        if data[mid] == item:\n",
    "            location = mid\n",
    "        elif data[mid] < item:\n",
    "            low = mid + 1\n",
    "        else:\n",
    "            high = mid - 1\n",
    "    return location\n",
    "        \n",
    "data = [1, 3, 5, 6, 7, 9, 10, 14, 17, 19]\n",
    "n = 10\n",
    "location = bs(data, 17, 0, n-1)\n",
    "print(location)"
   ]
  },
  {
   "cell_type": "markdown",
   "metadata": {},
   "source": [
    "## Alg 1.6 피보나찌 수 구하기 알고리즘(Fibonacci), 재귀적 방법"
   ]
  },
  {
   "cell_type": "code",
   "execution_count": 63,
   "metadata": {},
   "outputs": [],
   "source": [
    "from time import time"
   ]
  },
  {
   "cell_type": "code",
   "execution_count": 64,
   "metadata": {},
   "outputs": [
    {
     "name": "stdout",
     "output_type": "stream",
     "text": [
      " 0      0\n",
      " 1      1\n",
      " 2      1\n",
      " 3      2\n",
      " 4      3\n",
      " 5      5\n",
      " 6      8\n",
      " 7     13\n",
      " 8     21\n",
      " 9     34\n"
     ]
    }
   ],
   "source": [
    "def fibo1(n):\n",
    "    if n <= 1:\n",
    "        return n\n",
    "    else:\n",
    "        return fibo1(n-1) + fibo1(n-2)\n",
    "    \n",
    "\n",
    "for i in range(0, 10):\n",
    "    print(f'{i:2d} {fibo1(i): 6d}')\n",
    "    "
   ]
  },
  {
   "cell_type": "markdown",
   "metadata": {},
   "source": [
    "* 시간을 측정해보자"
   ]
  },
  {
   "cell_type": "code",
   "execution_count": 80,
   "metadata": {},
   "outputs": [
    {
     "name": "stdout",
     "output_type": "stream",
     "text": [
      " 0    0.00000\n",
      " 1    0.00000\n",
      " 2    0.00000\n",
      " 3    0.00000\n",
      " 4    0.00000\n",
      " 5    0.00000\n",
      " 6    0.00001\n",
      " 7    0.00001\n",
      " 8    0.00001\n",
      " 9    0.00001\n"
     ]
    }
   ],
   "source": [
    "def fibo1(n):\n",
    "    if n <= 1:\n",
    "        return n\n",
    "    else:\n",
    "        return fibo1(n-1) + fibo1(n-2)\n",
    "\n",
    "for i in range (10):\n",
    "    stime = time()\n",
    "    fibo1(i)\n",
    "    print(f'{i:2d} {time()-stime:10.5f}')"
   ]
  },
  {
   "cell_type": "markdown",
   "metadata": {},
   "source": [
    "## Alg 1.7 피보나찌 수 구하기 알고리즘(Fibonacci), 반복적 방법"
   ]
  },
  {
   "cell_type": "code",
   "execution_count": 12,
   "metadata": {},
   "outputs": [
    {
     "name": "stdout",
     "output_type": "stream",
     "text": [
      " 0      0\n",
      " 1      1\n",
      " 2      1\n",
      " 3      2\n",
      " 4      3\n",
      " 5      5\n",
      " 6      8\n",
      " 7     13\n",
      " 8     21\n",
      " 9     34\n"
     ]
    }
   ],
   "source": [
    "def fibo2(n):\n",
    "    tmp = []\n",
    "    result = 0\n",
    "    tmp.append(0)\n",
    "    if 0 < n:\n",
    "        tmp.append(1)\n",
    "        i = 1\n",
    "        while i < n:\n",
    "            result = tmp[i-1] + tmp[i]\n",
    "            tmp.append(result)\n",
    "            i += 1\n",
    "    return tmp[n]\n",
    "        \n",
    "for i in range(0, 10):\n",
    "    print(f'{i:2d} {fibo2(i): 6d}')\n",
    "    "
   ]
  },
  {
   "cell_type": "markdown",
   "metadata": {},
   "source": [
    "* 시간을 측정해보자"
   ]
  },
  {
   "cell_type": "code",
   "execution_count": 81,
   "metadata": {},
   "outputs": [
    {
     "name": "stdout",
     "output_type": "stream",
     "text": [
      " 0   0.00000\n",
      " 1   0.00000\n",
      " 2   0.00000\n",
      " 3   0.00000\n",
      " 4   0.00000\n",
      " 5   0.00000\n",
      " 6   0.00001\n",
      " 7   0.00001\n",
      " 8   0.00001\n",
      " 9   0.00002\n"
     ]
    }
   ],
   "source": [
    "def fibo2(n):\n",
    "    tmp = []\n",
    "    result = 0\n",
    "    tmp.append(0)\n",
    "    if 0 < n:\n",
    "        tmp.append(1)\n",
    "        i = 1\n",
    "        while i < n:\n",
    "            result = tmp[i-1] + tmp[i]\n",
    "            tmp.append(result)\n",
    "            i += 1\n",
    "    return tmp[n]\n",
    "\n",
    "for i in range (10):\n",
    "    stime = time()\n",
    "    fibo2(i)\n",
    "    print(f'{i:2d}{time()-stime:10.5f}')"
   ]
  },
  {
   "cell_type": "markdown",
   "metadata": {},
   "source": [
    "* 다양한 n의 값에 대한 fib1과 fib2의 수행시간을 확인해보자"
   ]
  },
  {
   "cell_type": "markdown",
   "metadata": {},
   "source": [
    "|n|fibo1(재귀적 방법)|fibo2(반복적 방법)|\n",
    "|---|---|---|\n",
    "|10|0.00002초|0.00000초|\n",
    "|20|0.00325초|0.00000초|\n",
    "|30|0.24768초|0.00001초|\n",
    "|50|5000초|0.00001초|\n",
    "|100|???|0.00002초|\n",
    "|200|???|0.00004초|"
   ]
  },
  {
   "cell_type": "code",
   "execution_count": null,
   "metadata": {},
   "outputs": [],
   "source": []
  }
 ],
 "metadata": {
  "kernelspec": {
   "display_name": "Python 3",
   "language": "python",
   "name": "python3"
  },
  "language_info": {
   "codemirror_mode": {
    "name": "ipython",
    "version": 3
   },
   "file_extension": ".py",
   "mimetype": "text/x-python",
   "name": "python",
   "nbconvert_exporter": "python",
   "pygments_lexer": "ipython3",
   "version": "3.8.8"
  }
 },
 "nbformat": 4,
 "nbformat_minor": 4
}
