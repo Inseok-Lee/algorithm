{
 "cells": [
  {
   "cell_type": "markdown",
   "id": "75077293",
   "metadata": {},
   "source": [
    "# 2장 분할정복법(divide-and-conquer)"
   ]
  },
  {
   "cell_type": "markdown",
   "id": "a2f31720",
   "metadata": {},
   "source": [
    "* 이분검색\n",
    "* 합병정렬1\n",
    "* 합병정렬2"
   ]
  },
  {
   "cell_type": "markdown",
   "id": "88ed1568",
   "metadata": {},
   "source": [
    "분할정복식 설계 전략\n",
    "* 분할(Divide): 해결하기 쉽도록 문제를 여러 개의 작은 부분으로 나눈다.\n",
    "* 정복(Conqeur): 나눈 작은 문제를 각각 해결한다.\n",
    "* 통합(Combine): (필요하다면) 해결된 해답을 모은다.\n",
    "이러한 문제 해결 방법을 하향식(top-down) 접근방법이라고 한다."
   ]
  },
  {
   "cell_type": "markdown",
   "id": "9d36be42",
   "metadata": {},
   "source": [
    "### 이분검색(binary search): 재귀적 방식"
   ]
  },
  {
   "cell_type": "markdown",
   "id": "7c317ff5",
   "metadata": {},
   "source": [
    "* 의사코드\n",
    "```\n",
    "index location (index low, index high){\n",
    "    index mid;\n",
    "    \n",
    "    if(low > high)\n",
    "        return 0; //찾지 못했음\n",
    "    else{\n",
    "        mid = (low + high)/2 // 정수 나눗셈(나머지 버림)\n",
    "        if(x == s[mid]) // 찾았음\n",
    "            return mid;\n",
    "        else if(x < S[mid])\n",
    "            return location(low, mid - 1);// 왼쪽 반을 선택\n",
    "        else\n",
    "            return location(mid + 1, high); // 오른쪽 반을 선택\n",
    "    }\n",
    "locationout = location(1, n);\n",
    "```"
   ]
  },
  {
   "cell_type": "markdown",
   "id": "43b366d3",
   "metadata": {},
   "source": [
    "[실습] 이분검색"
   ]
  },
  {
   "cell_type": "code",
   "execution_count": 3,
   "id": "fcfc37f0",
   "metadata": {},
   "outputs": [
    {
     "ename": "SyntaxError",
     "evalue": "invalid syntax (<ipython-input-3-f08c747c7293>, line 2)",
     "output_type": "error",
     "traceback": [
      "\u001b[1;36m  File \u001b[1;32m\"<ipython-input-3-f08c747c7293>\"\u001b[1;36m, line \u001b[1;32m2\u001b[0m\n\u001b[1;33m    // 구현\u001b[0m\n\u001b[1;37m    ^\u001b[0m\n\u001b[1;31mSyntaxError\u001b[0m\u001b[1;31m:\u001b[0m invalid syntax\n"
     ]
    }
   ],
   "source": [
    "def bs(data, item, low, high):\n",
    "    // 구현\n",
    "    \n",
    "data = [1, 3, 5, 6, 7, 9, 10, 14, 17, 19]\n",
    "n = 10\n",
    "location = bs(data, 17, 0, n-1)\n",
    "print(location)"
   ]
  },
  {
   "cell_type": "markdown",
   "id": "fbbdd438",
   "metadata": {},
   "source": [
    "[실습] 이분검색 알고리즘을 객체지향방법으로 구현\n",
    "1. Class data를 정의하여, binsearch라는 method를 구현한다.\n",
    "2. data명.binsearch(x)\n",
    "3. Binsearch\n",
    " * 입력: 특정값\n",
    " * 출력: 특정값이 있는 위치의 index. 데이터 내에 특정값이 존재하지 않을 경우 -1 return\n"
   ]
  },
  {
   "cell_type": "code",
   "execution_count": null,
   "id": "b726fedc",
   "metadata": {},
   "outputs": [],
   "source": []
  },
  {
   "cell_type": "markdown",
   "id": "56c08808",
   "metadata": {},
   "source": [
    "[실습] 이분검색 알고리즘의 특정데이터를 찾을때 까지의 데이터 비교 횟수 확인\n",
    "* 데이터의 개수: n\n",
    "* k개의 문제를 생성하여 이분검색의 평균 데이터 비교 횟수를 확인한다."
   ]
  },
  {
   "cell_type": "code",
   "execution_count": null,
   "id": "c8cf4edb",
   "metadata": {},
   "outputs": [],
   "source": []
  },
  {
   "cell_type": "markdown",
   "id": "a9bbb892",
   "metadata": {},
   "source": [
    "### 합병정렬(mergesort)"
   ]
  },
  {
   "cell_type": "markdown",
   "id": "35bd2d74",
   "metadata": {},
   "source": [
    "* 의사코드\n",
    "```\n",
    "void mergesort(int n, keytype S[]){\n",
    "    const int h = n/2, m = n-h;\n",
    "    keytype U[1..h], V[1..m];\n",
    "    \n",
    "    if (n > 1){\n",
    "        copy S[1] through S[h] to U[1] through U[h];\n",
    "        copy S[h+1] through S[n] to V[1] through V[m];\n",
    "        mergesort(h, U)\n",
    "        mergesort(m, V)\n",
    "        merge(h, m, U, V, S);\n",
    "    }\n",
    "}\n",
    "```\n",
    "        "
   ]
  },
  {
   "cell_type": "markdown",
   "id": "84faaffa",
   "metadata": {},
   "source": [
    "### 합병(merge)"
   ]
  },
  {
   "cell_type": "markdown",
   "id": "f3016c51",
   "metadata": {},
   "source": [
    "* 의사코드\n",
    "```\n",
    "void merge(int h, int m, const keytype U[], const keytype V[], keytype S[]){\n",
    "    index i, j, k;\n",
    "    i = 1, j = 1, k = 1;\n",
    "    while(i <= h && j <= m){\n",
    "        if(U[i] < V[j]){\n",
    "            S[k] = U[i];\n",
    "            i++;\n",
    "        }\n",
    "        else{\n",
    "            S[k] = V[j];\n",
    "            j++\n",
    "        }\n",
    "        k++;\n",
    "    }\n",
    "    if (i > h)\n",
    "        copy V[j] through V[m] to S[k] through S[h+m];\n",
    "    else\n",
    "        copy U[i] through U[h] to S[k] through S[h+m];\n",
    "}\n",
    "```"
   ]
  },
  {
   "cell_type": "markdown",
   "id": "9712a2bf",
   "metadata": {},
   "source": [
    "[실습] 합병정렬"
   ]
  },
  {
   "cell_type": "code",
   "execution_count": 1,
   "id": "b9aa55f4",
   "metadata": {},
   "outputs": [
    {
     "name": "stdout",
     "output_type": "stream",
     "text": [
      "added_storage:  14\n",
      "[2, 3, 4, 5, 8, 9, 10, 14]\n"
     ]
    }
   ],
   "source": [
    "#합병정렬1\n",
    "memory_used = [0]\n",
    "\n",
    "def mergeSort(n, s):\n",
    "    h = int(n / 2)\n",
    "    m = n - h\n",
    "    if n > 1:\n",
    "        u = s[:h]\n",
    "        v = s[h:]\n",
    "        memory_used.append(memory_used[-1] + len(u))\n",
    "        memory_used.append(memory_used[-1] + len(v))\n",
    "        mergeSort(h, u)\n",
    "        memory_used.append(memory_used[-1] - len(u))\n",
    "        mergeSort(m, v)\n",
    "        memory_used.append(memory_used[-1] - len(u))\n",
    "        merge(h, m, u, v, s)\n",
    "\n",
    "# 리스트에 메모리의 사용량을 저장하면, 리스트의 MAX값이 결국에는\n",
    "#시스템이 필요로 하는 메모리의 크기가 된다.\n",
    "# 저장하는 방식 -> 리스트가 생성될 때마다 추가, 반환할 때마다 삭제\n",
    "\n",
    "def merge(h, m, u, v, s):\n",
    "    i, j, k = 0, 0, 0\n",
    "\n",
    "    while i < h and j < m:\n",
    "        if u[i] < v[j]:\n",
    "            s[k] = u[i]\n",
    "            i += 1\n",
    "        else:\n",
    "            s[k] = v[j]\n",
    "            j += 1\n",
    "        k += 1\n",
    "\n",
    "    if i >= h:\n",
    "        while j < m:\n",
    "            s[k] = v[j]\n",
    "            j += 1\n",
    "            k += 1\n",
    "\n",
    "    else:\n",
    "        while i < h:\n",
    "            s[k] = u[i]\n",
    "            i += 1\n",
    "            k += 1\n",
    "\n",
    "s = [3, 5, 2, 9, 10, 14, 4, 8]\n",
    "mergeSort(8, s)\n",
    "print('added_storage: ', max(memory_used))\n",
    "print(s)"
   ]
  },
  {
   "cell_type": "markdown",
   "id": "c683419b",
   "metadata": {},
   "source": [
    "[실습] 합병정렬\n",
    "- 합병정렬을 recursion이 없는 방식으로 구현\n",
    "- index를 잘 이용해서 구현"
   ]
  },
  {
   "cell_type": "markdown",
   "id": "884688ff",
   "metadata": {},
   "source": []
  },
  {
   "cell_type": "markdown",
   "id": "f0261426",
   "metadata": {},
   "source": [
    "### 공간복잡도가 향상된 알고리즘"
   ]
  },
  {
   "cell_type": "markdown",
   "id": "4f2b7a35",
   "metadata": {},
   "source": [
    "### 합병정렬2(mergesort2)"
   ]
  },
  {
   "cell_type": "markdown",
   "id": "e5b2d3ed",
   "metadata": {},
   "source": [
    "* 의사코드\n",
    "```\n",
    "void mergesort2(index low, index high){\n",
    "    index mid;\n",
    "    if(low < high){\n",
    "        mid = (low + high)/2;\n",
    "        mergesort2(low, mid);\n",
    "        mergesort2(mid+1, high);\n",
    "        merge2(low, mid, high);\n",
    "    }\n",
    "}\n",
    "...\n",
    "mergesort2(1, n);\n",
    "...\n",
    "```"
   ]
  },
  {
   "cell_type": "markdown",
   "id": "12f44649",
   "metadata": {},
   "source": [
    "### 합병2(merge2)"
   ]
  },
  {
   "cell_type": "markdown",
   "id": "d517d58d",
   "metadata": {},
   "source": [
    "* 의사코드\n",
    "```\n",
    "\n",
    "\n",
    "\n",
    "\n",
    "```"
   ]
  },
  {
   "cell_type": "markdown",
   "id": "1bd5ec14",
   "metadata": {},
   "source": [
    "[실습] 합병정렬2"
   ]
  },
  {
   "cell_type": "code",
   "execution_count": 5,
   "id": "5a248586",
   "metadata": {},
   "outputs": [
    {
     "name": "stdout",
     "output_type": "stream",
     "text": [
      "added_storage2:  8\n",
      "[2, 3, 4, 5, 8, 9, 10, 14]\n"
     ]
    }
   ],
   "source": [
    "#합병정렬2\n",
    "memory_used = [0]\n",
    "def mergeSort2(s, low, high):\n",
    "    if low < high:\n",
    "        mid = int((low + high)/2)\n",
    "        mergeSort2(s, low, mid)\n",
    "        mergeSort2(s, mid + 1, high)\n",
    "        merge2(s, low, mid, high)\n",
    "        memory_used.append((high - low + 1))\n",
    "\n",
    "def merge2(s, low, mid, high):\n",
    "    i, j, k = low, mid + 1, low\n",
    "    u = []\n",
    "    while i <= mid and j <= high:\n",
    "        if s[i] < s[j]:\n",
    "            u.append(s[i])\n",
    "            i += 1\n",
    "        else:\n",
    "            u.append(s[j])\n",
    "            j += 1\n",
    "        k += 1\n",
    "\n",
    "    if i > mid:\n",
    "        while j <= high:\n",
    "            u.append(s[j])\n",
    "            j += 1\n",
    "            k += 1\n",
    "    else:\n",
    "        while i <= mid:\n",
    "            u.append(s[i])\n",
    "            i += 1\n",
    "            k += 1\n",
    "\n",
    "    t = 0\n",
    "    for i in range(low, high+1):\n",
    "        s[i] = u[t]\n",
    "        t += 1\n",
    "\n",
    "s = [3, 5, 2, 9, 10, 14, 4, 8]\n",
    "mergeSort2(s, 0, 7)\n",
    "print('added_storage2: ', max(memory_used))\n",
    "print(s)"
   ]
  },
  {
   "cell_type": "code",
   "execution_count": null,
   "id": "d77ac746",
   "metadata": {},
   "outputs": [],
   "source": []
  }
 ],
 "metadata": {
  "kernelspec": {
   "display_name": "Python 3",
   "language": "python",
   "name": "python3"
  },
  "language_info": {
   "codemirror_mode": {
    "name": "ipython",
    "version": 3
   },
   "file_extension": ".py",
   "mimetype": "text/x-python",
   "name": "python",
   "nbconvert_exporter": "python",
   "pygments_lexer": "ipython3",
   "version": "3.8.8"
  }
 },
 "nbformat": 4,
 "nbformat_minor": 5
}
