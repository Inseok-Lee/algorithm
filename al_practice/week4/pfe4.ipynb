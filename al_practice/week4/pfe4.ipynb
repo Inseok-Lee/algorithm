{
 "cells": [
  {
   "cell_type": "markdown",
   "id": "e7fdcd19",
   "metadata": {},
   "source": [
    "# 2장 분할정복법(divide-and-conquer)\n",
    "* 빠른정렬\n",
    "* 쉬트라센 알고리즘\n",
    "* 큰 정수 곱셈"
   ]
  },
  {
   "cell_type": "markdown",
   "id": "0bf1485a",
   "metadata": {},
   "source": [
    "### numpy 실습(array 만들기)\n",
    "* 파이썬에는 array자료구조가 없으나, numpy에서는 array자료구조 지원\n",
    "* array구조는 수학적인 표현처럼 행렬, 행렬 원소를 표시할 수 있다.\n",
    "* numpy를 줄여 쓰기 위해 import numpy as np 사용"
   ]
  },
  {
   "cell_type": "code",
   "execution_count": 2,
   "id": "e4d8b90e",
   "metadata": {},
   "outputs": [],
   "source": [
    "import numpy as np"
   ]
  },
  {
   "cell_type": "code",
   "execution_count": 3,
   "id": "0a95ad39",
   "metadata": {},
   "outputs": [
    {
     "name": "stdout",
     "output_type": "stream",
     "text": [
      "[1, 2, 3]\n",
      "[1 2 3]\n"
     ]
    }
   ],
   "source": [
    "a = [1, 2, 3]\n",
    "print(a)\n",
    "b = np.array(a)\n",
    "print(b)"
   ]
  },
  {
   "cell_type": "code",
   "execution_count": 5,
   "id": "0ad39d27",
   "metadata": {},
   "outputs": [
    {
     "name": "stdout",
     "output_type": "stream",
     "text": [
      "[[1, 2, 3], [5, 6, 7]]\n",
      "7\n",
      "\n",
      "[[1 2 3]\n",
      " [5 6 7]]\n",
      "7\n",
      "7\n"
     ]
    }
   ],
   "source": [
    "c = [[1, 2, 3], [5, 6, 7]]\n",
    "print(c)\n",
    "print(c[1][2])\n",
    "print()\n",
    "d = np.array(c)\n",
    "print(d)\n",
    "print(d[1, 2])\n",
    "print(d[1][2])"
   ]
  },
  {
   "cell_type": "markdown",
   "id": "e764edb0",
   "metadata": {},
   "source": [
    "* @는 numpy의 행렬의 곱셈 operator"
   ]
  },
  {
   "cell_type": "code",
   "execution_count": 6,
   "id": "3936190b",
   "metadata": {},
   "outputs": [
    {
     "name": "stdout",
     "output_type": "stream",
     "text": [
      "[[ 5 10]\n",
      " [11 20]]\n"
     ]
    }
   ],
   "source": [
    "a = [[1, 2], [3, 4]]\n",
    "b = [[1, 0], [2, 5]]\n",
    "c = np.array(a)\n",
    "d = np.array(b)\n",
    "f = c @ d\n",
    "print(f)"
   ]
  },
  {
   "cell_type": "markdown",
   "id": "bd1e0db9",
   "metadata": {},
   "source": [
    "* 행렬의 덧셈, 뺄셈 가능"
   ]
  },
  {
   "cell_type": "code",
   "execution_count": 7,
   "id": "8eeb55ee",
   "metadata": {},
   "outputs": [
    {
     "name": "stdout",
     "output_type": "stream",
     "text": [
      "[[2 2]\n",
      " [5 9]]\n",
      "[[ 0  2]\n",
      " [ 1 -1]]\n"
     ]
    }
   ],
   "source": [
    "a = [[1, 2], [3, 4]]\n",
    "b = [[1, 0], [2, 5]]\n",
    "c = np.array(a)\n",
    "d = np.array(b)\n",
    "f = c + d\n",
    "print(f)\n",
    "g = c - d\n",
    "print(g)"
   ]
  },
  {
   "cell_type": "markdown",
   "id": "16ac7857",
   "metadata": {},
   "source": [
    "* 행렬의 초기화"
   ]
  },
  {
   "cell_type": "code",
   "execution_count": 10,
   "id": "279634b8",
   "metadata": {},
   "outputs": [
    {
     "name": "stdout",
     "output_type": "stream",
     "text": [
      "[[2, 2, 2], [2, 2, 2]]\n",
      "[[2 2 2]\n",
      " [2 2 2]]\n"
     ]
    }
   ],
   "source": [
    "A = [[2 for j in range(3)] for i in range(2)] \n",
    "#안쪽은 열(column)의 인덱스, 바깥은 행(row)의 인덱스\n",
    "print(A)\n",
    "B = np.array(A)\n",
    "print(B)"
   ]
  },
  {
   "cell_type": "code",
   "execution_count": 13,
   "id": "51666a12",
   "metadata": {},
   "outputs": [
    {
     "name": "stdout",
     "output_type": "stream",
     "text": [
      "[[0 1 2]\n",
      " [1 2 3]]\n"
     ]
    }
   ],
   "source": [
    "A = np.array([[i+j for j in range(3)] for i in range(2)])\n",
    "print(A)"
   ]
  },
  {
   "cell_type": "markdown",
   "id": "1ef3f8ea",
   "metadata": {},
   "source": [
    "* 행렬의 병합"
   ]
  },
  {
   "cell_type": "code",
   "execution_count": 15,
   "id": "c47e170f",
   "metadata": {},
   "outputs": [
    {
     "name": "stdout",
     "output_type": "stream",
     "text": [
      "[[1 2 6 7]\n",
      " [3 4 8 9]]\n",
      "\n",
      "[[1 2]\n",
      " [3 4]\n",
      " [6 7]\n",
      " [8 9]]\n"
     ]
    }
   ],
   "source": [
    "a = [[1, 2], [3, 4]]\n",
    "b = [[6, 7], [8, 9]]\n",
    "c = np.array(a)\n",
    "d = np.array(b)\n",
    "print(np.hstack([c, d])) # horizontal stack\n",
    "print()\n",
    "print(np.vstack([c, d])) # vertical stack"
   ]
  },
  {
   "cell_type": "markdown",
   "id": "463c29ec",
   "metadata": {},
   "source": [
    "## 빠른정렬 알고리즘"
   ]
  },
  {
   "cell_type": "markdown",
   "id": "b75588ad",
   "metadata": {},
   "source": [
    "*의사코드"
   ]
  },
  {
   "cell_type": "code",
   "execution_count": null,
   "id": "5b9337d5",
   "metadata": {},
   "outputs": [],
   "source": [
    "void quicksort(index low, index high){\n",
    "    index pivotpoint;\n",
    "    if(high > low){\n",
    "        partition(low, high, pivotpoint);\n",
    "        quicksort(low, pivotpoint-1);\n",
    "        quicksort(pivotpoint+1, high);\n",
    "    }\n",
    "}"
   ]
  },
  {
   "cell_type": "markdown",
   "id": "a300cd69",
   "metadata": {},
   "source": [
    "## 분할 알고리즘"
   ]
  },
  {
   "cell_type": "markdown",
   "id": "9f9929b9",
   "metadata": {},
   "source": [
    "*의사코드"
   ]
  },
  {
   "cell_type": "code",
   "execution_count": null,
   "id": "5a8ca7ed",
   "metadata": {},
   "outputs": [],
   "source": [
    "void partition(index low, index high, index& pivotpoint){\n",
    "    index i, h;\n",
    "    keytype pivotitem;\n",
    "    pivotitem = S[low]; // pivotitem으로 첫번째 항목을 고른다\n",
    "    j = low\n",
    "    for(i = low + 1; i <= high; i++){\n",
    "        if (S[i] < pivotitem){\n",
    "            j++;\n",
    "            exchagne S[i] and S[j]\n",
    "        }\n",
    "    }\n",
    "    pivotpoint = j;\n",
    "    exchange S[low] and S[pivotpoint];\n",
    "}\n",
    "\n",
    "# j: pivotitem보다 작은 그룹의 제일 우측 끝 데이터의 위치\n",
    "- not stable (같은 수가 있을때, 3-a와 3-b의 위치가 바뀜)"
   ]
  },
  {
   "cell_type": "markdown",
   "id": "44caca73",
   "metadata": {},
   "source": [
    "* [실습] 빠른정렬 알고리즘"
   ]
  },
  {
   "cell_type": "code",
   "execution_count": 1,
   "id": "778f3f5d",
   "metadata": {},
   "outputs": [
    {
     "name": "stdout",
     "output_type": "stream",
     "text": [
      "[2, 3, 4, 5, 8, 9, 10, 14]\n"
     ]
    }
   ],
   "source": [
    "import random\n",
    "\n",
    "def quickSort(s, low, high):\n",
    "    pivotpoint = 0\n",
    "    if low < high:\n",
    "        pivotpoint = partition(s, low, high, pivotpoint)\n",
    "        quickSort(s, low, pivotpoint-1)\n",
    "        quickSort(s, pivotpoint+1, high)\n",
    "\n",
    "\n",
    "def partition(s, low, high, pivotpoint):\n",
    "    pivotitem = s[low]\n",
    "    j = low\n",
    "    i = low + 1\n",
    "    while i <= high:\n",
    "        if s[i] < pivotitem:\n",
    "            j += 1\n",
    "            s[i], s[j] = s[j], s[i]\n",
    "        i += 1\n",
    "    pivotpoint = j\n",
    "    s[low], s[pivotpoint] = s[pivotpoint], s[low]\n",
    "    return pivotpoint\n",
    "\n",
    "s = [3, 5, 2, 9, 10, 14, 4, 8]\n",
    "quickSort(s, 0, 7)\n",
    "print(s)"
   ]
  },
  {
   "cell_type": "markdown",
   "id": "723770e5",
   "metadata": {},
   "source": [
    "## 쉬트라쎈의 알고리즘"
   ]
  },
  {
   "cell_type": "markdown",
   "id": "ea7bea53",
   "metadata": {},
   "source": [
    "* 의사코드"
   ]
  },
  {
   "cell_type": "code",
   "execution_count": 2,
   "id": "950c144c",
   "metadata": {},
   "outputs": [
    {
     "ename": "SyntaxError",
     "evalue": "invalid syntax (<ipython-input-2-46a36c94c5b4>, line 1)",
     "output_type": "error",
     "traceback": [
      "\u001b[1;36m  File \u001b[1;32m\"<ipython-input-2-46a36c94c5b4>\"\u001b[1;36m, line \u001b[1;32m1\u001b[0m\n\u001b[1;33m    void strassen (int n, n*n_matrix A, n*n_matrix B, n*n_matrix& C){\u001b[0m\n\u001b[1;37m         ^\u001b[0m\n\u001b[1;31mSyntaxError\u001b[0m\u001b[1;31m:\u001b[0m invalid syntax\n"
     ]
    }
   ],
   "source": [
    "void strassen (int n, n*n_matrix A, n*n_matrix B, n*n_matrix& C){\n",
    "    if(n <= 임계점)\n",
    "        단순한 알고리즘을 사용하여 C = A*B 를 계산;\n",
    "    else{\n",
    "        A를 4개의 부분행렬 A11, A12, A21, A22로 분할;\n",
    "        B를 4개의 부분행렬 B11, B12, B21, B22로 분할;\n",
    "        쉬트라쏀의 방법을 사용하여 C = A * B를 계산;\n",
    "        // 되부르는 호출의 예: strassen(n/2, A11+A12, B11+B22, M1)\n",
    "    }\n",
    "}\n",
    "\n",
    "임계점(threshold)란? 두 알고리즘의 효율성이 교차하는 문제의 크기"
   ]
  },
  {
   "cell_type": "markdown",
   "id": "9d3c3bde",
   "metadata": {},
   "source": [
    "* [실습] 쉬트라쎈의 알고리즘"
   ]
  },
  {
   "cell_type": "code",
   "execution_count": 3,
   "id": "8eae04df",
   "metadata": {},
   "outputs": [
    {
     "name": "stdout",
     "output_type": "stream",
     "text": [
      "단순한 알고리즘:\n",
      " [[ 2 15 12  2]\n",
      " [ 1 10  4  6]\n",
      " [ 2 12  8  2]\n",
      " [ 2  8  0  8]]\n",
      "\n",
      "쉬트라쎈 알고리즘:\n",
      " [[ 2 15 12  2]\n",
      " [ 1 10  4  6]\n",
      " [ 2 12  8  2]\n",
      " [ 2  8  0  8]]\n"
     ]
    }
   ],
   "source": [
    "import numpy as np\n",
    "def strassen(n, A, B, C):\n",
    "    threshold = 2\n",
    "    A11 = np.array([[A[rows][cols] for cols in range(int(n/2))]\\\n",
    "                  for rows in range(int(n/2))])\n",
    "    A12 = np.array([[A[rows][cols+int(n/2)] for cols in range(int(n/2))]\\\n",
    "                  for rows in range(int(n/2))])\n",
    "    A21 = np.array([[A[rows+int(n/2)][cols] for cols in range(int(n/2))]\\\n",
    "                  for rows in range(int(n/2))])\n",
    "    A22 = np.array([[A[rows+int(n/2)][cols+int(n/2)] for cols in range(int(n/2))]\\\n",
    "                  for rows in range(int(n/2))])\n",
    "    B11 = np.array([[B[rows][cols] for cols in range(int(n/2))]\\\n",
    "                  for rows in range(int(n/2))])\n",
    "    B12 = np.array([[B[rows][cols+int(n/2)] for cols in range(int(n/2))]\\\n",
    "                    for rows in range(int(n/2))])\n",
    "    B21 = np.array([[B[rows+int(n/2)][cols] for cols in range(int(n/2))]\\\n",
    "                    for rows in range(int(n/2))])\n",
    "    B22 = np.array([[B[rows+int(n/2)][cols+int(n/2)] for cols in range(int(n/2))]\\\n",
    "                    for rows in range(int(n/2))])\n",
    "\n",
    "    # print(A11, A12, A21, A22, B11, B12, B21, B22, sep='\\n') 결과 테스트\n",
    "    if n <= threshold:\n",
    "        C = np.array(A) @ np.array(B)\n",
    "    else:\n",
    "        M1 = M2 = M3 = M4 = M5 = M6 = M7 = np.array([])\n",
    "        M1 = strassen(int(n/2), (A11+A22), (B11+B22), M1)\n",
    "        M2 = strassen(int(n/2), (A21+A22), B11, M2)\n",
    "        M3 = strassen(int(n/2), A11, (B12-B22), M3)\n",
    "        M4 = strassen(int(n/2), A22, (B21-B11), M4)\n",
    "        M5 = strassen(int(n/2), (A11+A12), B22, M5)\n",
    "        M6 = strassen(int(n/2), (A21-A11), (B11+B12), M6)\n",
    "        M7 = strassen(int(n/2), (A12-A22), (B21+B22), M7)\n",
    "        #행렬 병합하기\n",
    "        C = np.vstack([np.hstack([M1+M4-M5+M7, M3+M5]),\\\n",
    "                       np.hstack([M2+M4, M1+M3-M2+M6])])\n",
    "    return C\n",
    "\n",
    "n = 4\n",
    "A = [[1 for cols in range(n)] for rows in range(n)]\n",
    "B = [[2 for cols in range(n)] for rows in range(n)]\n",
    "A = [[1, 2, 0, 2], [3, 1, 0, 0], [0, 1, 1, 2], [2, 0, 2, 0]]\n",
    "B = [[0, 3, 0, 2], [1, 1, 4, 0], [1, 1, 0, 2], [0, 5, 2, 0]]\n",
    "C = np.array(A)@np.array(B)\n",
    "D = [[0 for cols in range(n)]for rows in range(n)]\n",
    "print('단순한 알고리즘:\\n', C)\n",
    "print()\n",
    "D = strassen(n, A, B, D)\n",
    "print('쉬트라쎈 알고리즘:\\n', D)"
   ]
  },
  {
   "cell_type": "code",
   "execution_count": null,
   "id": "8ce2ffb5",
   "metadata": {},
   "outputs": [],
   "source": []
  }
 ],
 "metadata": {
  "kernelspec": {
   "display_name": "Python 3",
   "language": "python",
   "name": "python3"
  },
  "language_info": {
   "codemirror_mode": {
    "name": "ipython",
    "version": 3
   },
   "file_extension": ".py",
   "mimetype": "text/x-python",
   "name": "python",
   "nbconvert_exporter": "python",
   "pygments_lexer": "ipython3",
   "version": "3.8.8"
  }
 },
 "nbformat": 4,
 "nbformat_minor": 5
}
